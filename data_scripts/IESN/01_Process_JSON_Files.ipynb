{
 "cells": [
  {
   "cell_type": "code",
   "execution_count": 18,
   "id": "e9ec1825-eaae-4fd6-b22a-ed874dda28bb",
   "metadata": {},
   "outputs": [],
   "source": [
    "import io \n",
    "import pandas as pd\n",
    "import json\n",
    "import glob"
   ]
  },
  {
   "cell_type": "code",
   "execution_count": 23,
   "id": "3f2132e5-657a-4e57-a5d5-8aecb06efa21",
   "metadata": {},
   "outputs": [],
   "source": [
    "def process_json(json_filepath):\n",
    "    with open(json_filepath) as f:\n",
    "        data = f.read()\n",
    "        \n",
    "    cleaned_data = data.replace('ObjectId(','').replace('NumberLong(','').replace(')','')\n",
    "    cleaned_data = cleaned_data.replace('}\\n{','},\\n{')\n",
    "    \n",
    "    formatted_data = '{\"array\": [' + cleaned_data[1:] + ']}'\n",
    "    \n",
    "    res = json.loads(formatted_data)\n",
    "    \n",
    "    return res['array'] # solo estaba para asegurar que fuera 100% json-compliant"
   ]
  },
  {
   "cell_type": "code",
   "execution_count": null,
   "id": "7bb1d5db-9938-419c-8682-b08d93afdba2",
   "metadata": {},
   "outputs": [],
   "source": [
    "!mkdir -p formatted_data"
   ]
  },
  {
   "cell_type": "code",
   "execution_count": 22,
   "id": "c19c1ca1-0c92-472a-8f2a-f4af6ad3ab18",
   "metadata": {},
   "outputs": [
    {
     "data": {
      "text/plain": [
       "[('data/users.json', 'formatted_data/users.json'),\n",
       " ('data/ActualEmotion.json', 'formatted_data/ActualEmotion.json'),\n",
       " ('data/groups.json', 'formatted_data/groups.json'),\n",
       " ('data/ExpectedEmotion.json', 'formatted_data/ExpectedEmotion.json')]"
      ]
     },
     "execution_count": 22,
     "metadata": {},
     "output_type": "execute_result"
    }
   ],
   "source": [
    "to_process = [(file, 'formatted_data/%s' % file.split('/')[-1]) for file in glob.glob('data/*.json')]\n",
    "to_process"
   ]
  },
  {
   "cell_type": "code",
   "execution_count": 25,
   "id": "ac06cac3-6eb3-461d-ba50-e1e424b25f06",
   "metadata": {},
   "outputs": [
    {
     "name": "stdout",
     "output_type": "stream",
     "text": [
      "Processing data/users.json\n",
      "Processing data/ActualEmotion.json\n",
      "Processing data/groups.json\n",
      "Processing data/ExpectedEmotion.json\n"
     ]
    }
   ],
   "source": [
    "for to_process_jsonpath, result_json_path in to_process:\n",
    "    print(\"Processing %s\" % to_process_jsonpath)\n",
    "    \n",
    "    result = process_json(to_process_jsonpath)\n",
    "    with open(result_json_path, 'wt') as res_f:\n",
    "        json.dump(result, res_f)"
   ]
  },
  {
   "cell_type": "code",
   "execution_count": null,
   "id": "748e1c08-3101-4196-a4f8-5a9580d12ad0",
   "metadata": {},
   "outputs": [],
   "source": []
  }
 ],
 "metadata": {
  "kernelspec": {
   "display_name": "Python 3",
   "language": "python",
   "name": "python3"
  },
  "language_info": {
   "codemirror_mode": {
    "name": "ipython",
    "version": 3
   },
   "file_extension": ".py",
   "mimetype": "text/x-python",
   "name": "python",
   "nbconvert_exporter": "python",
   "pygments_lexer": "ipython3",
   "version": "3.8.8"
  }
 },
 "nbformat": 4,
 "nbformat_minor": 5
}
