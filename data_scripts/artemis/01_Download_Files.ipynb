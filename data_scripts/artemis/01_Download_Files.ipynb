{
 "cells": [
  {
   "cell_type": "code",
   "execution_count": 1,
   "id": "5d1fe7f9-4e4d-4d93-821a-8aca5bc300a3",
   "metadata": {},
   "outputs": [],
   "source": [
    "import pandas as pd\n",
    "\n",
    "import matplotlib.pyplot as plt"
   ]
  },
  {
   "cell_type": "code",
   "execution_count": 2,
   "id": "6deb13b0-c522-4290-8d4d-5af15858f357",
   "metadata": {},
   "outputs": [],
   "source": [
    "import seaborn as sns"
   ]
  },
  {
   "cell_type": "code",
   "execution_count": 3,
   "id": "bc4b3028-0412-498e-b340-f1afee9e5dc3",
   "metadata": {},
   "outputs": [],
   "source": [
    "#!pip install pqdm plotnine joblib pandas"
   ]
  },
  {
   "cell_type": "code",
   "execution_count": 4,
   "id": "05aba045-1197-40ab-a644-139aa957dbd7",
   "metadata": {},
   "outputs": [],
   "source": [
    "plt.rcParams['figure.figsize'] = 20, 10"
   ]
  },
  {
   "cell_type": "code",
   "execution_count": 5,
   "id": "5e249686-edb6-4db5-991a-78e8eb7cf4ea",
   "metadata": {},
   "outputs": [],
   "source": [
    "!mkdir -p images # crea carpeta de destino"
   ]
  },
  {
   "cell_type": "code",
   "execution_count": 6,
   "id": "a9a04aef-6e6a-418f-b2de-6ee441714d8b",
   "metadata": {},
   "outputs": [],
   "source": [
    "import pandas as pd\n",
    "from pqdm.threads import pqdm\n",
    "from plotnine import *\n",
    "\n",
    "import urllib.request\n",
    "from joblib import Parallel, delayed"
   ]
  },
  {
   "cell_type": "code",
   "execution_count": 7,
   "id": "38d48e5a-2afc-4aff-b299-ed1c82ad8c7e",
   "metadata": {},
   "outputs": [],
   "source": [
    "data = pd.read_csv('artemis_dataset_release_v0.csv')"
   ]
  },
  {
   "cell_type": "code",
   "execution_count": 8,
   "id": "63a32414-d664-461d-8f3e-cb2fb00c8939",
   "metadata": {},
   "outputs": [
    {
     "data": {
      "text/plain": [
       "80031"
      ]
     },
     "execution_count": 8,
     "metadata": {},
     "output_type": "execute_result"
    }
   ],
   "source": [
    "len(data['painting'].unique())"
   ]
  },
  {
   "cell_type": "code",
   "execution_count": 9,
   "id": "121c6745-65a5-4a43-8b49-bc5cdc1b790c",
   "metadata": {},
   "outputs": [],
   "source": [
    "data['rand'] = data['painting'].rank(method='dense') "
   ]
  },
  {
   "cell_type": "code",
   "execution_count": 10,
   "id": "207440ae-68e7-4ab1-a65d-5ad3a81b8815",
   "metadata": {},
   "outputs": [],
   "source": [
    "data['rand_int'] = ((data['rand'] % 9) + 1).astype(int).astype(str)"
   ]
  },
  {
   "cell_type": "code",
   "execution_count": 11,
   "id": "d4d58f3f-f7e5-410b-95f4-532a6f9ad536",
   "metadata": {},
   "outputs": [],
   "source": [
    "data['address'] = 'https://uploads.wikiart.org/images/' + data['painting'].str.replace('_','/') + '.jpg'"
   ]
  },
  {
   "cell_type": "code",
   "execution_count": 12,
   "id": "17feeb6a-723b-4d23-817c-4d26dd66e28b",
   "metadata": {},
   "outputs": [
    {
     "data": {
      "text/plain": [
       "'vincent-van-gogh/portrait-of-madame-ginoux-l-arlesienne-1890'"
      ]
     },
     "execution_count": 12,
     "metadata": {},
     "output_type": "execute_result"
    }
   ],
   "source": [
    "data['painting'].str.replace('_','/')[0]"
   ]
  },
  {
   "cell_type": "code",
   "execution_count": 13,
   "id": "b10f89c6-3e8c-42d8-a342-7a4a8577b958",
   "metadata": {},
   "outputs": [
    {
     "data": {
      "text/plain": [
       "'https://uploads.wikiart.org/images/vincent-van-gogh/portrait-of-madame-ginoux-l-arlesienne-1890.jpg'"
      ]
     },
     "execution_count": 13,
     "metadata": {},
     "output_type": "execute_result"
    }
   ],
   "source": [
    "data['address'].iloc[0]"
   ]
  },
  {
   "cell_type": "code",
   "execution_count": 14,
   "id": "d50ff95f-c9f1-415c-9207-252607240a53",
   "metadata": {},
   "outputs": [
    {
     "data": {
      "text/plain": [
       "0         https://uploads.wikiart.org/images/vincent-van...\n",
       "1         https://uploads.wikiart.org/images/vincent-van...\n",
       "2         https://uploads.wikiart.org/images/vincent-van...\n",
       "3         https://uploads.wikiart.org/images/vincent-van...\n",
       "4         https://uploads.wikiart.org/images/vincent-van...\n",
       "                                ...                        \n",
       "454679    https://uploads.wikiart.org/images/gino-severi...\n",
       "454680    https://uploads.wikiart.org/images/ivan-aivazo...\n",
       "454681    https://uploads.wikiart.org/images/ivan-aivazo...\n",
       "454682    https://uploads.wikiart.org/images/ivan-aivazo...\n",
       "454683    https://uploads.wikiart.org/images/joan-miro/n...\n",
       "Name: address, Length: 454684, dtype: object"
      ]
     },
     "execution_count": 14,
     "metadata": {},
     "output_type": "execute_result"
    }
   ],
   "source": [
    "data['address']"
   ]
  },
  {
   "cell_type": "code",
   "execution_count": 15,
   "id": "a6954113-342a-4822-aaff-f2f6973211ef",
   "metadata": {},
   "outputs": [
    {
     "data": {
      "text/plain": [
       "0         https://uploads.wikiart.org/images/vincent-van...\n",
       "1         https://uploads.wikiart.org/images/vincent-van...\n",
       "2         https://uploads.wikiart.org/images/vincent-van...\n",
       "3         https://uploads.wikiart.org/images/vincent-van...\n",
       "4         https://uploads.wikiart.org/images/vincent-van...\n",
       "                                ...                        \n",
       "454679    https://uploads.wikiart.org/images/gino-severi...\n",
       "454680    https://uploads.wikiart.org/images/ivan-aivazo...\n",
       "454681    https://uploads.wikiart.org/images/ivan-aivazo...\n",
       "454682    https://uploads.wikiart.org/images/ivan-aivazo...\n",
       "454683    https://uploads.wikiart.org/images/joan-miro/n...\n",
       "Name: address, Length: 454684, dtype: object"
      ]
     },
     "execution_count": 15,
     "metadata": {},
     "output_type": "execute_result"
    }
   ],
   "source": [
    "data['address']"
   ]
  },
  {
   "cell_type": "code",
   "execution_count": 16,
   "id": "6f3b415a-3d71-40d2-a97b-5799121d413d",
   "metadata": {},
   "outputs": [],
   "source": [
    "def download_data(_id, url):\n",
    "    import urllib.request\n",
    "    \n",
    "    urllib.request.urlretrieve(url, 'images/%s.jpg' % _id)"
   ]
  },
  {
   "cell_type": "code",
   "execution_count": null,
   "id": "7937c616-a639-464b-b8e7-4aba3754e091",
   "metadata": {},
   "outputs": [],
   "source": []
  },
  {
   "cell_type": "code",
   "execution_count": 17,
   "id": "af1c9f8c-6f4e-42d9-adc8-2b407b76b65e",
   "metadata": {},
   "outputs": [],
   "source": [
    "import os"
   ]
  },
  {
   "cell_type": "code",
   "execution_count": null,
   "id": "8ab34cce-a3be-4ef6-843b-e18bc69b14f5",
   "metadata": {},
   "outputs": [],
   "source": []
  },
  {
   "cell_type": "code",
   "execution_count": null,
   "id": "d7ce92e3-cbc4-4d74-95e9-eef8ab5553d0",
   "metadata": {},
   "outputs": [],
   "source": []
  },
  {
   "cell_type": "code",
   "execution_count": null,
   "id": "6cea605e-c045-4820-a9c6-32e5171a7642",
   "metadata": {},
   "outputs": [],
   "source": []
  },
  {
   "cell_type": "code",
   "execution_count": null,
   "id": "42acccca-8545-4b32-b445-2ee2b75b039a",
   "metadata": {},
   "outputs": [],
   "source": []
  },
  {
   "cell_type": "code",
   "execution_count": 18,
   "id": "570c454a-bba1-4854-8316-a36b72e159b4",
   "metadata": {},
   "outputs": [],
   "source": [
    "to_download = data[['painting','address']].drop_duplicates()\n",
    "to_download['filepath'] = 'images/'+to_download['painting'] + '.jpg'\n",
    "to_download['downloaded'] = to_download['filepath'].apply(os.path.exists)\n",
    "to_download = to_download[~to_download['downloaded']].copy()"
   ]
  },
  {
   "cell_type": "code",
   "execution_count": 19,
   "id": "f6fee048-9004-4b09-b41d-9ebd7d97661d",
   "metadata": {},
   "outputs": [
    {
     "data": {
      "text/plain": [
       "54093"
      ]
     },
     "execution_count": 19,
     "metadata": {},
     "output_type": "execute_result"
    }
   ],
   "source": [
    "len(to_download)"
   ]
  },
  {
   "cell_type": "code",
   "execution_count": 20,
   "id": "062198c4-7687-4537-beb3-8031eefec72e",
   "metadata": {},
   "outputs": [
    {
     "data": {
      "text/plain": [
       "54109"
      ]
     },
     "execution_count": 20,
     "metadata": {},
     "output_type": "execute_result"
    }
   ],
   "source": [
    "54109"
   ]
  },
  {
   "cell_type": "code",
   "execution_count": 21,
   "id": "f5f55cfe-c5a9-48dd-92c3-f35d4d7476b2",
   "metadata": {},
   "outputs": [],
   "source": [
    "def process_url(url):\n",
    "    url"
   ]
  },
  {
   "cell_type": "code",
   "execution_count": 22,
   "id": "81f42c75-4d41-4894-9e43-44fbf94d6bf5",
   "metadata": {},
   "outputs": [
    {
     "data": {
      "text/plain": [
       "'https://uploads.wikiart.org/images/william--johnson/seated-female-nude-with-flowered-drape-1940(1).jpg'"
      ]
     },
     "execution_count": 22,
     "metadata": {},
     "output_type": "execute_result"
    }
   ],
   "source": [
    "'https://uploads.wikiart.org/images/william--johnson/seated-female-nude-with-flowered-drape-1940(1).jpg'"
   ]
  },
  {
   "cell_type": "code",
   "execution_count": 23,
   "id": "a06c1e3e-2f51-4558-81ba-669a716d3328",
   "metadata": {},
   "outputs": [],
   "source": [
    "to_download['address_regexp'] = to_download['address'].str.replace('.-','-',regex=False)"
   ]
  },
  {
   "cell_type": "code",
   "execution_count": 24,
   "id": "69c5825a-1496-4232-ae78-a325e76955d0",
   "metadata": {},
   "outputs": [],
   "source": [
    "download_tuples = list(to_download[['painting','address_regexp']].itertuples(index=None, name=None))"
   ]
  },
  {
   "cell_type": "code",
   "execution_count": 25,
   "id": "a215772c-ac1c-4253-93c0-978cf34788aa",
   "metadata": {},
   "outputs": [
    {
     "data": {
      "application/vnd.jupyter.widget-view+json": {
       "model_id": "4fcca94ac69546afab49742bcc0ed5c9",
       "version_major": 2,
       "version_minor": 0
      },
      "text/plain": [
       "SUBMITTING | :   0%|          | 0/54093 [00:00<?, ?it/s]"
      ]
     },
     "metadata": {},
     "output_type": "display_data"
    },
    {
     "data": {
      "application/vnd.jupyter.widget-view+json": {
       "model_id": "af22c51fe836440dbd06760f1ca351bc",
       "version_major": 2,
       "version_minor": 0
      },
      "text/plain": [
       "PROCESSING | :   0%|          | 0/54093 [00:00<?, ?it/s]"
      ]
     },
     "metadata": {},
     "output_type": "display_data"
    },
    {
     "data": {
      "application/vnd.jupyter.widget-view+json": {
       "model_id": "de08e818e4fa4480945053007ee56a0e",
       "version_major": 2,
       "version_minor": 0
      },
      "text/plain": [
       "COLLECTING | :   0%|          | 0/54093 [00:00<?, ?it/s]"
      ]
     },
     "metadata": {},
     "output_type": "display_data"
    }
   ],
   "source": [
    "result = pqdm(download_tuples, lambda download_tuple: download_data(*download_tuple), n_jobs=32)"
   ]
  },
  {
   "cell_type": "code",
   "execution_count": 83,
   "id": "409ad65c-10fb-407c-b479-bfdb0bfa6447",
   "metadata": {},
   "outputs": [
    {
     "data": {
      "text/plain": [
       "('william-h.-johnson_seated-female-nude-with-flowered-drape-1940(1)',\n",
       " 'https://uploads.wikiart.org/images/william-h-johnson/seated-female-nude-with-flowered-drape-1940(1).jpg')"
      ]
     },
     "execution_count": 83,
     "metadata": {},
     "output_type": "execute_result"
    }
   ],
   "source": [
    "download_tuples[0]"
   ]
  },
  {
   "cell_type": "code",
   "execution_count": 30,
   "id": "2644a107-ca8d-491a-a869-a824f0a75b70",
   "metadata": {},
   "outputs": [
    {
     "data": {
      "text/plain": [
       "<HTTPError 404: 'Not Found'>"
      ]
     },
     "execution_count": 30,
     "metadata": {},
     "output_type": "execute_result"
    }
   ],
   "source": [
    "result[0]"
   ]
  },
  {
   "cell_type": "code",
   "execution_count": 16,
   "id": "92fbefe4-5b66-40a6-8492-191d975ba3c8",
   "metadata": {},
   "outputs": [
    {
     "data": {
      "text/plain": [
       "<AxesSubplot:xlabel='emotion'>"
      ]
     },
     "execution_count": 16,
     "metadata": {},
     "output_type": "execute_result"
    },
    {
     "data": {
      "image/png": "[encoded data removed]",
      "text/plain": [
       "<Figure size 1440x720 with 1 Axes>"
      ]
     },
     "metadata": {
      "needs_background": "light"
     },
     "output_type": "display_data"
    }
   ],
   "source": [
    "data.groupby('emotion').size().plot.bar()"
   ]
  },
  {
   "cell_type": "code",
   "execution_count": null,
   "id": "c9594bdb-dd91-482a-9b63-797a71b8373f",
   "metadata": {},
   "outputs": [],
   "source": []
  }
 ],
 "metadata": {
  "kernelspec": {
   "display_name": "Python 3",
   "language": "python",
   "name": "python3"
  },
  "language_info": {
   "codemirror_mode": {
    "name": "ipython",
    "version": 3
   },
   "file_extension": ".py",
   "mimetype": "text/x-python",
   "name": "python",
   "nbconvert_exporter": "python",
   "pygments_lexer": "ipython3",
   "version": "3.8.5"
  }
 },
 "nbformat": 4,
 "nbformat_minor": 5
}
