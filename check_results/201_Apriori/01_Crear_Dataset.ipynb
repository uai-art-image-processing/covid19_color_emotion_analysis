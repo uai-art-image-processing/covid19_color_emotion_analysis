{
 "cells": [
  {
   "cell_type": "code",
   "execution_count": 53,
   "id": "42956c08",
   "metadata": {},
   "outputs": [],
   "source": [
    "import json\n",
    "import glob\n",
    "import pandas as pd"
   ]
  },
  {
   "cell_type": "code",
   "execution_count": 4,
   "id": "966f0c14",
   "metadata": {},
   "outputs": [],
   "source": [
    "file_list = glob.glob('../../google/output/objects/*.json')"
   ]
  },
  {
   "cell_type": "code",
   "execution_count": null,
   "id": "c2f1a63e",
   "metadata": {},
   "outputs": [],
   "source": [
    "def extract_objects(response):\n",
    "    "
   ]
  },
  {
   "cell_type": "code",
   "execution_count": 6,
   "id": "3f960b66",
   "metadata": {},
   "outputs": [],
   "source": [
    "results = []\n",
    "for file in file_list:\n",
    "    with open(file, 'r') as f:\n",
    "        f_dict = json.loads(f.read())\n",
    "        f_dict['file'] = file\n",
    "        results.append(f_dict)"
   ]
  },
  {
   "cell_type": "markdown",
   "id": "8badeb0f",
   "metadata": {},
   "source": [
    "# Processing"
   ]
  },
  {
   "cell_type": "code",
   "execution_count": 50,
   "id": "081a6c47",
   "metadata": {},
   "outputs": [],
   "source": [
    "processed_results = []\n",
    "for result in results:\n",
    "    for response in result['responses']:\n",
    "        processed_response = response.get('localizedObjectAnnotations')\n",
    "        \n",
    "        if processed_response is not None:\n",
    "            processed_result = dict()\n",
    "            processed_result['file'] = result['file']\n",
    "            processed_result['items'] = [item['name'] for item in processed_response]\n",
    "            processed_results.append(processed_result)"
   ]
  },
  {
   "cell_type": "code",
   "execution_count": null,
   "id": "b8294980",
   "metadata": {},
   "outputs": [],
   "source": [
    "!open ../../google/output/objects/covidartmuseum_2308874498885944292_31985798421.jpg.json"
   ]
  },
  {
   "cell_type": "code",
   "execution_count": 55,
   "id": "4595cabb",
   "metadata": {},
   "outputs": [],
   "source": [
    "pd_data = pd.DataFrame(processed_results)"
   ]
  },
  {
   "cell_type": "code",
   "execution_count": 79,
   "id": "a26cc8fd",
   "metadata": {},
   "outputs": [],
   "source": [
    "pd_data = pd_data.set_index('file')"
   ]
  },
  {
   "cell_type": "code",
   "execution_count": 87,
   "id": "545ac5bd",
   "metadata": {},
   "outputs": [],
   "source": [
    "binary_matrix_data = pd.get_dummies(pd_data['items'].apply(pd.Series).stack()).sum(level=0)"
   ]
  },
  {
   "cell_type": "code",
   "execution_count": 88,
   "id": "3b61329d",
   "metadata": {},
   "outputs": [],
   "source": [
    "!mkdir output\n",
    "binary_matrix_data.to_csv('output/binary_matrix.csv')"
   ]
  }
 ],
 "metadata": {
  "kernelspec": {
   "display_name": "Python 3",
   "language": "python",
   "name": "python3"
  },
  "language_info": {
   "codemirror_mode": {
    "name": "ipython",
    "version": 3
   },
   "file_extension": ".py",
   "mimetype": "text/x-python",
   "name": "python",
   "nbconvert_exporter": "python",
   "pygments_lexer": "ipython3",
   "version": "3.8.5"
  }
 },
 "nbformat": 4,
 "nbformat_minor": 5
}
