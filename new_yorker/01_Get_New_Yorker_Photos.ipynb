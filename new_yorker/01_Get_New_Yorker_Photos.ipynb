{
 "cells": [
  {
   "cell_type": "code",
   "execution_count": 5,
   "id": "b67c5958-90d1-4763-90f1-50ea73d4bcae",
   "metadata": {},
   "outputs": [
    {
     "name": "stdout",
     "output_type": "stream",
     "text": [
      "Collecting beautifulsoup4\n",
      "  Downloading beautifulsoup4-4.9.3-py3-none-any.whl (115 kB)\n",
      "\u001b[K     |████████████████████████████████| 115 kB 5.2 MB/s eta 0:00:01\n",
      "\u001b[?25hCollecting soupsieve>1.2; python_version >= \"3.0\"\n",
      "  Downloading soupsieve-2.2.1-py3-none-any.whl (33 kB)\n",
      "Installing collected packages: soupsieve, beautifulsoup4\n",
      "Successfully installed beautifulsoup4-4.9.3 soupsieve-2.2.1\n"
     ]
    }
   ],
   "source": [
    "!pip install beautifulsoup4"
   ]
  },
  {
   "cell_type": "code",
   "execution_count": 3,
   "id": "9af88e9e-c4dd-42dd-9fb7-72a04bea9acd",
   "metadata": {},
   "outputs": [],
   "source": [
    "import requests\n",
    "import bs4\n",
    "import pandas as pd\n",
    "import shutil\n",
    "\n",
    "\n",
    "from tqdm import tqdm"
   ]
  },
  {
   "cell_type": "code",
   "execution_count": 4,
   "id": "9db30a5c-defd-4c03-b8da-bbc91c205eca",
   "metadata": {},
   "outputs": [
    {
     "name": "stderr",
     "output_type": "stream",
     "text": [
      "100%|██████████| 25/25 [00:05<00:00,  4.37it/s]\n"
     ]
    }
   ],
   "source": [
    "results = []\n",
    "for i in tqdm(range(1, 26)):\n",
    "    res = requests.get('https://www.newyorker.com/culture/cover-story/page/%s' % i)\n",
    "    res_bs4 = bs4.BeautifulSoup(res.text)\n",
    "    fechas = res_bs4.find_all('h6')\n",
    "    links = [item[\"srcset\"].split(', ')[-1][:-3] for item in res_bs4.find_all('source', attrs={'media': \"(min-width: 1280px)\"})]\n",
    "    \n",
    "    results.extend(list(zip(fechas, links)))"
   ]
  },
  {
   "cell_type": "code",
   "execution_count": 5,
   "id": "b0191d12-1b8d-4dea-aab0-56d583474c33",
   "metadata": {},
   "outputs": [],
   "source": [
    "pd_results = pd.DataFrame(results, columns=['date', 'link'])"
   ]
  },
  {
   "cell_type": "code",
   "execution_count": 6,
   "id": "4f9fde87-1ab8-496f-a3b6-2d0ef736b87a",
   "metadata": {},
   "outputs": [],
   "source": [
    "pd_results['date'] = pd_results['date'].apply(lambda x: x.text)"
   ]
  },
  {
   "cell_type": "code",
   "execution_count": 7,
   "id": "7ab3a727-d57d-4be0-bf6c-f2e10ded1121",
   "metadata": {},
   "outputs": [],
   "source": [
    "pd_results['date'] = pd.to_datetime(pd_results['date'])"
   ]
  },
  {
   "cell_type": "code",
   "execution_count": 8,
   "id": "be4fe248-624c-4c9c-abfa-18f8d372c08e",
   "metadata": {},
   "outputs": [],
   "source": [
    "pd_results.to_csv('manifest.txt')"
   ]
  },
  {
   "cell_type": "code",
   "execution_count": 9,
   "id": "34f3a252-d709-4f5f-b9e4-895b21c9faca",
   "metadata": {},
   "outputs": [
    {
     "data": {
      "text/plain": [
       "0                Abney_Tilley_Covid_Dining_promo.jpg\n",
       "1             cover-PROMO-image-gurbuz_reopening.jpg\n",
       "2      cover-promo_image-kadir_nelson_homecoming.jpg\n",
       "3          cover-PROMO-image-ulriksen-basketball.jpg\n",
       "4              cover-PROMO-mccall-tech-chrystler.jpg\n",
       "                           ...                      \n",
       "231                         120903_2012_p465_opt.jpg\n",
       "232                             120618_2012_p465.jpg\n",
       "233                             120130_2012_p465.jpg\n",
       "234          2011_11_28_Niemann_Pilgrims%2520(1).jpg\n",
       "235                             111107_2011_p465.jpg\n",
       "Name: link, Length: 236, dtype: object"
      ]
     },
     "execution_count": 9,
     "metadata": {},
     "output_type": "execute_result"
    }
   ],
   "source": [
    "pd_results['link'].str.split('/').apply(lambda x: x[-1])"
   ]
  },
  {
   "cell_type": "code",
   "execution_count": 10,
   "id": "91a023e9-f66c-424f-aaf2-0b735b7bb084",
   "metadata": {},
   "outputs": [],
   "source": [
    "for date, link in results:\n",
    "    new_date = str(pd.to_datetime(date.text))\n",
    "    response = requests.get(link, stream=True)\n",
    "    \n",
    "    with open('%s.png' % new_date, 'wb') as out_file:\n",
    "        shutil.copyfileobj(response.raw, out_file)"
   ]
  },
  {
   "cell_type": "code",
   "execution_count": null,
   "id": "b1322d94-c6b9-4282-8be3-0a03de59415e",
   "metadata": {},
   "outputs": [],
   "source": []
  }
 ],
 "metadata": {
  "kernelspec": {
   "display_name": "Python 3",
   "language": "python",
   "name": "python3"
  },
  "language_info": {
   "codemirror_mode": {
    "name": "ipython",
    "version": 3
   },
   "file_extension": ".py",
   "mimetype": "text/x-python",
   "name": "python",
   "nbconvert_exporter": "python",
   "pygments_lexer": "ipython3",
   "version": "3.8.5"
  }
 },
 "nbformat": 4,
 "nbformat_minor": 5
}
