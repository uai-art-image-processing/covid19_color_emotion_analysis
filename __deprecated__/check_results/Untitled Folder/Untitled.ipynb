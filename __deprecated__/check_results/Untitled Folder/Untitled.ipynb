{
 "cells": [
  {
   "cell_type": "code",
   "execution_count": 1,
   "id": "f352e356",
   "metadata": {},
   "outputs": [
    {
     "name": "stdout",
     "output_type": "stream",
     "text": [
      "Clonando en 'darknet'...\n",
      "remote: Enumerating objects: 5934, done.\u001b[K\n",
      "remote: Total 5934 (delta 0), reused 0 (delta 0), pack-reused 5934\u001b[K\n",
      "Recibiendo objetos: 100% (5934/5934), 6.35 MiB | 6.35 MiB/s, listo.\n",
      "Resolviendo deltas: 100% (3925/3925), listo.\n"
     ]
    }
   ],
   "source": [
    "!git clone https://github.com/pjreddie/darknet.git"
   ]
  },
  {
   "cell_type": "code",
   "execution_count": null,
   "id": "15ada350",
   "metadata": {},
   "outputs": [],
   "source": []
  }
 ],
 "metadata": {
  "kernelspec": {
   "display_name": "Python 3",
   "language": "python",
   "name": "python3"
  },
  "language_info": {
   "codemirror_mode": {
    "name": "ipython",
    "version": 3
   },
   "file_extension": ".py",
   "mimetype": "text/x-python",
   "name": "python",
   "nbconvert_exporter": "python",
   "pygments_lexer": "ipython3",
   "version": "3.8.5"
  }
 },
 "nbformat": 4,
 "nbformat_minor": 5
}
