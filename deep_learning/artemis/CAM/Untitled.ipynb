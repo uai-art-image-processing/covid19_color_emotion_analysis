{
 "cells": [
  {
   "cell_type": "code",
   "execution_count": 1,
   "id": "0371292f-cfc8-49d0-9c8c-1eea852dba66",
   "metadata": {},
   "outputs": [],
   "source": [
    "import pandas as pd"
   ]
  },
  {
   "cell_type": "code",
   "execution_count": 2,
   "id": "6a4f9ce8-2bbc-4201-a300-f1f3f4dc5eef",
   "metadata": {},
   "outputs": [],
   "source": [
    "itten = pd.read_csv('salida_colores_itten.csv')"
   ]
  },
  {
   "cell_type": "code",
   "execution_count": 6,
   "id": "5913d972-a8f6-4a19-a0ea-c974509841f5",
   "metadata": {},
   "outputs": [],
   "source": [
    "itten['f_file_name'] = itten['file_name'].str.split('/').apply(lambda x: x[-1])"
   ]
  },
  {
   "cell_type": "code",
   "execution_count": 4,
   "id": "f1a30a9e-8540-4796-845d-b8b37089ded6",
   "metadata": {},
   "outputs": [],
   "source": [
    "artemis = pd.read_csv('salida_modelo_artemis.csv')"
   ]
  },
  {
   "cell_type": "code",
   "execution_count": 8,
   "id": "39ba672d-2f89-4728-aa99-3934855e19fe",
   "metadata": {},
   "outputs": [],
   "source": [
    "merged_data = itten.merge(artemis, left_on='f_file_name', right_on='filename')"
   ]
  },
  {
   "cell_type": "code",
   "execution_count": 15,
   "id": "edc198bb-c576-4bda-b23e-161c8558821c",
   "metadata": {},
   "outputs": [],
   "source": [
    "del merged_data['Unnamed: 0_x']"
   ]
  },
  {
   "cell_type": "code",
   "execution_count": 16,
   "id": "34da4b82-9172-4cda-abf7-0f699147e552",
   "metadata": {},
   "outputs": [],
   "source": [
    "del merged_data['Unnamed: 0_y']"
   ]
  },
  {
   "cell_type": "code",
   "execution_count": 29,
   "id": "72b2d159-0da9-45a5-99fc-82bd542116bd",
   "metadata": {},
   "outputs": [],
   "source": [
    "emotions = ['amusement','awe','excitement','anger','disgust','sadness','something else','fear','contentment']"
   ]
  },
  {
   "cell_type": "code",
   "execution_count": 31,
   "id": "d7868e10-24c0-4222-963c-ad179f88ffde",
   "metadata": {},
   "outputs": [],
   "source": [
    "check_cols = [col for col in merged_data.columns if col not in emotions and col not in ['file_name','f_file_name','filename','relative_filename']]"
   ]
  },
  {
   "cell_type": "code",
   "execution_count": 47,
   "id": "3ed565e3-2505-4a67-84d7-4799eec4c2b9",
   "metadata": {},
   "outputs": [
    {
     "data": {
      "text/plain": [
       "<AxesSubplot:>"
      ]
     },
     "execution_count": 47,
     "metadata": {},
     "output_type": "execute_result"
    },
    {
     "data": {
      "image/png": "[encoded data removed]",
      "text/plain": [
       "<Figure size 432x288 with 1 Axes>"
      ]
     },
     "metadata": {
      "needs_background": "light"
     },
     "output_type": "display_data"
    }
   ],
   "source": [
    "merged_data.corr(method='kendall')['something else'].loc[check_cols].plot.barh()"
   ]
  },
  {
   "cell_type": "code",
   "execution_count": null,
   "id": "0e29192a-f941-4594-9569-63286ec0ce45",
   "metadata": {},
   "outputs": [],
   "source": []
  }
 ],
 "metadata": {
  "kernelspec": {
   "display_name": "Python 3",
   "language": "python",
   "name": "python3"
  },
  "language_info": {
   "codemirror_mode": {
    "name": "ipython",
    "version": 3
   },
   "file_extension": ".py",
   "mimetype": "text/x-python",
   "name": "python",
   "nbconvert_exporter": "python",
   "pygments_lexer": "ipython3",
   "version": "3.8.5"
  }
 },
 "nbformat": 4,
 "nbformat_minor": 5
}
