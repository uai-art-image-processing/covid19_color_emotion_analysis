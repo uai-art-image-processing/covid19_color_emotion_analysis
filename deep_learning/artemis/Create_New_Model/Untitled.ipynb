{
 "cells": [
  {
   "cell_type": "code",
   "execution_count": 3,
   "id": "5d1fe7f9-4e4d-4d93-821a-8aca5bc300a3",
   "metadata": {},
   "outputs": [],
   "source": [
    "import pandas as pd\n",
    "\n",
    "import matplotlib.pyplot as plt"
   ]
  },
  {
   "cell_type": "code",
   "execution_count": 4,
   "id": "6deb13b0-c522-4290-8d4d-5af15858f357",
   "metadata": {},
   "outputs": [],
   "source": [
    "import seaborn as sns"
   ]
  },
  {
   "cell_type": "code",
   "execution_count": 5,
   "id": "05aba045-1197-40ab-a644-139aa957dbd7",
   "metadata": {},
   "outputs": [],
   "source": [
    "plt.rcParams['figure.figsize'] = 20, 10"
   ]
  },
  {
   "cell_type": "code",
   "execution_count": 6,
   "id": "38d48e5a-2afc-4aff-b299-ed1c82ad8c7e",
   "metadata": {},
   "outputs": [],
   "source": [
    "data = pd.read_csv('artemis_dataset_release_v0.csv')"
   ]
  },
  {
   "cell_type": "code",
   "execution_count": 7,
   "id": "63a32414-d664-461d-8f3e-cb2fb00c8939",
   "metadata": {},
   "outputs": [
    {
     "data": {
      "text/html": [
       "<div>\n",
       "<style scoped>\n",
       "    .dataframe tbody tr th:only-of-type {\n",
       "        vertical-align: middle;\n",
       "    }\n",
       "\n",
       "    .dataframe tbody tr th {\n",
       "        vertical-align: top;\n",
       "    }\n",
       "\n",
       "    .dataframe thead th {\n",
       "        text-align: right;\n",
       "    }\n",
       "</style>\n",
       "<table border=\"1\" class=\"dataframe\">\n",
       "  <thead>\n",
       "    <tr style=\"text-align: right;\">\n",
       "      <th></th>\n",
       "      <th>art_style</th>\n",
       "      <th>painting</th>\n",
       "      <th>emotion</th>\n",
       "      <th>utterance</th>\n",
       "      <th>repetition</th>\n",
       "    </tr>\n",
       "  </thead>\n",
       "  <tbody>\n",
       "    <tr>\n",
       "      <th>0</th>\n",
       "      <td>Post_Impressionism</td>\n",
       "      <td>vincent-van-gogh_portrait-of-madame-ginoux-l-a...</td>\n",
       "      <td>something else</td>\n",
       "      <td>She seems very happy in the picture, and you w...</td>\n",
       "      <td>10</td>\n",
       "    </tr>\n",
       "    <tr>\n",
       "      <th>1</th>\n",
       "      <td>Post_Impressionism</td>\n",
       "      <td>vincent-van-gogh_portrait-of-madame-ginoux-l-a...</td>\n",
       "      <td>sadness</td>\n",
       "      <td>This woman has really knotty hands which makes...</td>\n",
       "      <td>10</td>\n",
       "    </tr>\n",
       "    <tr>\n",
       "      <th>2</th>\n",
       "      <td>Post_Impressionism</td>\n",
       "      <td>vincent-van-gogh_portrait-of-madame-ginoux-l-a...</td>\n",
       "      <td>something else</td>\n",
       "      <td>When looking at this woman, I am filled with c...</td>\n",
       "      <td>10</td>\n",
       "    </tr>\n",
       "    <tr>\n",
       "      <th>3</th>\n",
       "      <td>Post_Impressionism</td>\n",
       "      <td>vincent-van-gogh_portrait-of-madame-ginoux-l-a...</td>\n",
       "      <td>contentment</td>\n",
       "      <td>A woman looking at ease, peaceful, and satisfi...</td>\n",
       "      <td>10</td>\n",
       "    </tr>\n",
       "    <tr>\n",
       "      <th>4</th>\n",
       "      <td>Post_Impressionism</td>\n",
       "      <td>vincent-van-gogh_portrait-of-madame-ginoux-l-a...</td>\n",
       "      <td>awe</td>\n",
       "      <td>She looks like a lady from that past that migh...</td>\n",
       "      <td>10</td>\n",
       "    </tr>\n",
       "    <tr>\n",
       "      <th>...</th>\n",
       "      <td>...</td>\n",
       "      <td>...</td>\n",
       "      <td>...</td>\n",
       "      <td>...</td>\n",
       "      <td>...</td>\n",
       "    </tr>\n",
       "    <tr>\n",
       "      <th>454679</th>\n",
       "      <td>Cubism</td>\n",
       "      <td>gino-severini_a-dancer-1</td>\n",
       "      <td>awe</td>\n",
       "      <td>the collection and collage of different colors...</td>\n",
       "      <td>48</td>\n",
       "    </tr>\n",
       "    <tr>\n",
       "      <th>454680</th>\n",
       "      <td>Romanticism</td>\n",
       "      <td>ivan-aivazovsky_sea-at-night-1861</td>\n",
       "      <td>awe</td>\n",
       "      <td>The peaceful reflections of the moonlight on t...</td>\n",
       "      <td>8</td>\n",
       "    </tr>\n",
       "    <tr>\n",
       "      <th>454681</th>\n",
       "      <td>Romanticism</td>\n",
       "      <td>ivan-aivazovsky_sea-at-night-1861</td>\n",
       "      <td>excitement</td>\n",
       "      <td>I can imagine the sailors resting this peacefu...</td>\n",
       "      <td>8</td>\n",
       "    </tr>\n",
       "    <tr>\n",
       "      <th>454682</th>\n",
       "      <td>Romanticism</td>\n",
       "      <td>ivan-aivazovsky_sea-at-night-1861</td>\n",
       "      <td>contentment</td>\n",
       "      <td>The steep mountains and the moonlight provide ...</td>\n",
       "      <td>8</td>\n",
       "    </tr>\n",
       "    <tr>\n",
       "      <th>454683</th>\n",
       "      <td>Cubism</td>\n",
       "      <td>joan-miro_not_detected_227963</td>\n",
       "      <td>fear</td>\n",
       "      <td>If you look at the colors individually they ar...</td>\n",
       "      <td>10</td>\n",
       "    </tr>\n",
       "  </tbody>\n",
       "</table>\n",
       "<p>454684 rows × 5 columns</p>\n",
       "</div>"
      ],
      "text/plain": [
       "                 art_style                                           painting  \\\n",
       "0       Post_Impressionism  vincent-van-gogh_portrait-of-madame-ginoux-l-a...   \n",
       "1       Post_Impressionism  vincent-van-gogh_portrait-of-madame-ginoux-l-a...   \n",
       "2       Post_Impressionism  vincent-van-gogh_portrait-of-madame-ginoux-l-a...   \n",
       "3       Post_Impressionism  vincent-van-gogh_portrait-of-madame-ginoux-l-a...   \n",
       "4       Post_Impressionism  vincent-van-gogh_portrait-of-madame-ginoux-l-a...   \n",
       "...                    ...                                                ...   \n",
       "454679              Cubism                           gino-severini_a-dancer-1   \n",
       "454680         Romanticism                  ivan-aivazovsky_sea-at-night-1861   \n",
       "454681         Romanticism                  ivan-aivazovsky_sea-at-night-1861   \n",
       "454682         Romanticism                  ivan-aivazovsky_sea-at-night-1861   \n",
       "454683              Cubism                      joan-miro_not_detected_227963   \n",
       "\n",
       "               emotion                                          utterance  \\\n",
       "0       something else  She seems very happy in the picture, and you w...   \n",
       "1              sadness  This woman has really knotty hands which makes...   \n",
       "2       something else  When looking at this woman, I am filled with c...   \n",
       "3          contentment  A woman looking at ease, peaceful, and satisfi...   \n",
       "4                  awe  She looks like a lady from that past that migh...   \n",
       "...                ...                                                ...   \n",
       "454679             awe  the collection and collage of different colors...   \n",
       "454680             awe  The peaceful reflections of the moonlight on t...   \n",
       "454681      excitement  I can imagine the sailors resting this peacefu...   \n",
       "454682     contentment  The steep mountains and the moonlight provide ...   \n",
       "454683            fear  If you look at the colors individually they ar...   \n",
       "\n",
       "        repetition  \n",
       "0               10  \n",
       "1               10  \n",
       "2               10  \n",
       "3               10  \n",
       "4               10  \n",
       "...            ...  \n",
       "454679          48  \n",
       "454680           8  \n",
       "454681           8  \n",
       "454682           8  \n",
       "454683          10  \n",
       "\n",
       "[454684 rows x 5 columns]"
      ]
     },
     "execution_count": 7,
     "metadata": {},
     "output_type": "execute_result"
    }
   ],
   "source": [
    "data"
   ]
  },
  {
   "cell_type": "code",
   "execution_count": 20,
   "id": "b6527687-9364-4403-90f7-7d07c91a9c53",
   "metadata": {},
   "outputs": [
    {
     "data": {
      "text/html": [
       "<div>\n",
       "<style scoped>\n",
       "    .dataframe tbody tr th:only-of-type {\n",
       "        vertical-align: middle;\n",
       "    }\n",
       "\n",
       "    .dataframe tbody tr th {\n",
       "        vertical-align: top;\n",
       "    }\n",
       "\n",
       "    .dataframe thead th {\n",
       "        text-align: right;\n",
       "    }\n",
       "</style>\n",
       "<table border=\"1\" class=\"dataframe\">\n",
       "  <thead>\n",
       "    <tr style=\"text-align: right;\">\n",
       "      <th></th>\n",
       "      <th>emotion</th>\n",
       "      <th>0</th>\n",
       "    </tr>\n",
       "  </thead>\n",
       "  <tbody>\n",
       "    <tr>\n",
       "      <th>0</th>\n",
       "      <td>amusement</td>\n",
       "      <td>45336</td>\n",
       "    </tr>\n",
       "    <tr>\n",
       "      <th>1</th>\n",
       "      <td>anger</td>\n",
       "      <td>6640</td>\n",
       "    </tr>\n",
       "    <tr>\n",
       "      <th>2</th>\n",
       "      <td>awe</td>\n",
       "      <td>72927</td>\n",
       "    </tr>\n",
       "    <tr>\n",
       "      <th>3</th>\n",
       "      <td>contentment</td>\n",
       "      <td>126134</td>\n",
       "    </tr>\n",
       "    <tr>\n",
       "      <th>4</th>\n",
       "      <td>disgust</td>\n",
       "      <td>22411</td>\n",
       "    </tr>\n",
       "    <tr>\n",
       "      <th>5</th>\n",
       "      <td>excitement</td>\n",
       "      <td>37636</td>\n",
       "    </tr>\n",
       "    <tr>\n",
       "      <th>6</th>\n",
       "      <td>fear</td>\n",
       "      <td>41577</td>\n",
       "    </tr>\n",
       "    <tr>\n",
       "      <th>7</th>\n",
       "      <td>sadness</td>\n",
       "      <td>49061</td>\n",
       "    </tr>\n",
       "    <tr>\n",
       "      <th>8</th>\n",
       "      <td>something else</td>\n",
       "      <td>52962</td>\n",
       "    </tr>\n",
       "  </tbody>\n",
       "</table>\n",
       "</div>"
      ],
      "text/plain": [
       "          emotion       0\n",
       "0       amusement   45336\n",
       "1           anger    6640\n",
       "2             awe   72927\n",
       "3     contentment  126134\n",
       "4         disgust   22411\n",
       "5      excitement   37636\n",
       "6            fear   41577\n",
       "7         sadness   49061\n",
       "8  something else   52962"
      ]
     },
     "execution_count": 20,
     "metadata": {},
     "output_type": "execute_result"
    }
   ],
   "source": []
  },
  {
   "cell_type": "code",
   "execution_count": 21,
   "id": "cdc14294-25b3-4790-b640-7fbdea135ed0",
   "metadata": {},
   "outputs": [
    {
     "data": {
      "text/plain": [
       "<AxesSubplot:xlabel='emotion', ylabel='0'>"
      ]
     },
     "execution_count": 21,
     "metadata": {},
     "output_type": "execute_result"
    },
    {
     "data": {
      "image/png": "[encoded data removed]",
      "text/plain": [
       "<Figure size 1440x720 with 1 Axes>"
      ]
     },
     "metadata": {
      "needs_background": "light"
     },
     "output_type": "display_data"
    }
   ],
   "source": [
    "sns.barplot(data=data.groupby('emotion').size().reset_index(), x='emotion', y=0)"
   ]
  },
  {
   "cell_type": "code",
   "execution_count": 16,
   "id": "92fbefe4-5b66-40a6-8492-191d975ba3c8",
   "metadata": {},
   "outputs": [
    {
     "data": {
      "text/plain": [
       "<AxesSubplot:xlabel='emotion'>"
      ]
     },
     "execution_count": 16,
     "metadata": {},
     "output_type": "execute_result"
    },
    {
     "data": {
      "image/png": "[encoded data removed]",
      "text/plain": [
       "<Figure size 1440x720 with 1 Axes>"
      ]
     },
     "metadata": {
      "needs_background": "light"
     },
     "output_type": "display_data"
    }
   ],
   "source": [
    "data.groupby('emotion').size().plot.bar()"
   ]
  },
  {
   "cell_type": "code",
   "execution_count": null,
   "id": "c9594bdb-dd91-482a-9b63-797a71b8373f",
   "metadata": {},
   "outputs": [],
   "source": []
  }
 ],
 "metadata": {
  "kernelspec": {
   "display_name": "Python 3",
   "language": "python",
   "name": "python3"
  },
  "language_info": {
   "codemirror_mode": {
    "name": "ipython",
    "version": 3
   },
   "file_extension": ".py",
   "mimetype": "text/x-python",
   "name": "python",
   "nbconvert_exporter": "python",
   "pygments_lexer": "ipython3",
   "version": "3.8.5"
  }
 },
 "nbformat": 4,
 "nbformat_minor": 5
}
